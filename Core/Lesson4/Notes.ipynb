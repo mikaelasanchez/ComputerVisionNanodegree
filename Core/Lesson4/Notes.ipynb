{
  "cells": [
    {
      "cell_type": "markdown",
      "source": "\n## Computer Vision Pipeline\n1. \u003cb\u003eInput data:\u003c/b\u003e\n    - Images or image frames\n2. \u003cb\u003ePre-processing:\u003c/b\u003e\n    - Noise reduction\n    - Scaling\n    - Changing colour spaces\n3. \u003cb\u003eSelecting areas of interest:\u003c/b\u003e\n    - Object detection\n    - Image segmentation\n4. \u003cb\u003eFeature extraction:\u003c/b\u003e\n    - Extracting data about features\n5. \u003cb\u003ePrediction/Recognition:\u003c/b\u003e\n    - Object recognition\n    - Feature matching\n    \n## Standardising data\nPre-processing images is all about \u003ci\u003estandardizing input images\u003c/i\u003e so that you can move further along \nthe pipeline and analyze images in the same way. \u003cbr\u003e\nIn machine learning tasks, the pre-processing step is often \u003ci\u003eone of the most important.\u003c/i\u003e\n\n## Training for Computer Vision\nComputer Vision applications normally use CNNs with gradient descent\n",
      "metadata": {
        "pycharm": {
          "metadata": false,
          "name": "#%% md\n"
        }
      }
    },
    {
      "cell_type": "code",
      "execution_count": null,
      "outputs": [],
      "source": "\n1+1\n",
      "metadata": {
        "pycharm": {
          "metadata": false,
          "name": "#%%\n"
        }
      }
    },
    {
      "cell_type": "markdown",
      "source": "\n",
      "metadata": {
        "pycharm": {
          "metadata": false
        }
      }
    }
  ],
  "metadata": {
    "language_info": {
      "codemirror_mode": {
        "name": "ipython",
        "version": 2
      },
      "file_extension": ".py",
      "mimetype": "text/x-python",
      "name": "python",
      "nbconvert_exporter": "python",
      "pygments_lexer": "ipython2",
      "version": "2.7.6"
    },
    "kernelspec": {
      "name": "python3",
      "language": "python",
      "display_name": "Python 3"
    },
    "stem_cell": {
      "cell_type": "raw",
      "source": "",
      "metadata": {
        "pycharm": {
          "metadata": false
        }
      }
    }
  },
  "nbformat": 4,
  "nbformat_minor": 0
}