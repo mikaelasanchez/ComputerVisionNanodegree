{
 "cells": [
  {
   "cell_type": "code",
   "execution_count": 52,
   "metadata": {
    "pycharm": {
     "is_executing": false,
     "name": "#%%\n"
    }
   },
   "outputs": [],
   "source": [
    "import matplotlib.pyplot as plt\n",
    "import cv2"
   ]
  },
  {
   "cell_type": "code",
   "execution_count": 56,
   "metadata": {
    "pycharm": {
     "is_executing": false,
     "metadata": false,
     "name": "#%%\n"
    }
   },
   "outputs": [
    {
     "data": {
      "image/png": "[encoded data removed]",
      "text/plain": [
       "<Figure size 504x360 with 1 Axes>"
      ]
     },
     "metadata": {
      "needs_background": "light"
     },
     "output_type": "display_data"
    }
   ],
   "source": [
    "plt.figure(num=1, figsize=(7, 5))\n",
    "plt.title(\"Segment Intersection\")\n",
    "\n",
    "plt.xlim((0, 28))\n",
    "plt.ylim((0, 20))\n",
    "\n",
    "# Intersecting points\n",
    "x_1 = (2, 10)\n",
    "y_1 = (2, 10)\n",
    "\n",
    "x_2 = (8, 1)\n",
    "y_2 = (3, 9)\n",
    "\n",
    "# Non-Intersecting points\n",
    "x_3 = (20, 25)\n",
    "y_3 = (10, 17)\n",
    "\n",
    "x_4 = (14, 25)\n",
    "y_4 = (5, 9)\n",
    "\n",
    "# Plot the points\n",
    "plt.plot(x_1, y_1, c=\"c\")\n",
    "plt.text(1, 1, \"A\")\n",
    "plt.text(10.5, 10.5, \"B\")\n",
    "\n",
    "plt.plot(x_2, y_2, c=\"r\")\n",
    "plt.text(0.5, 9.5, \"C\")\n",
    "plt.text(8.5, 2.5, \"D\")\n",
    "\n",
    "plt.plot(x_3, y_3, c=\"y\")\n",
    "plt.text(19, 9, \"A\")\n",
    "plt.text(25.5, 17, \"B\")\n",
    "\n",
    "plt.plot(x_4, y_4, c=\"m\")\n",
    "plt.text(13, 4.5, \"C\")\n",
    "plt.text(26, 9, \"D\")\n",
    "\n",
    "plt.show()"
   ]
  },
  {
   "cell_type": "code",
   "execution_count": 41,
   "metadata": {},
   "outputs": [],
   "source": [
    "# Points as co-ordinates\n",
    "A1 = (2, 2)\n",
    "B1 = (10, 10)\n",
    "C1 = (8, 3)\n",
    "D1 = (1, 9)\n",
    "\n",
    "A2 = (20, 10)\n",
    "B2 = (25, 17)\n",
    "C2 = (14, 5)\n",
    "D2 = (25, 9)"
   ]
  },
  {
   "cell_type": "code",
   "execution_count": 46,
   "metadata": {},
   "outputs": [],
   "source": [
    "def get_orientation(points):\n",
    "    \"\"\"\n",
    "    return 1 : clockwise\n",
    "    return -1 : anti-clockwise\n",
    "    return 0 : collinear\n",
    "    \"\"\"\n",
    "    pt1 = points[0]\n",
    "    pt2 = points[1]\n",
    "    pt3 = points[2]\n",
    "    \n",
    "    sigma = (pt2[1] - pt1[1])/(pt2[0] - pt1[0])\n",
    "    tau = (pt3[1] - pt2[1])/(pt3[0] - pt2[0])\n",
    "    smt = sigma - tau\n",
    "    \n",
    "    if smt > 0:\n",
    "        return 1\n",
    "    elif smt < 0:\n",
    "        return -1\n",
    "    else:\n",
    "        return 0"
   ]
  },
  {
   "cell_type": "code",
   "execution_count": 48,
   "metadata": {},
   "outputs": [
    {
     "data": {
      "text/plain": [
       "-1"
      ]
     },
     "execution_count": 48,
     "metadata": {},
     "output_type": "execute_result"
    }
   ],
   "source": [
    "# Testing function is working\n",
    "get_orientation((A1, B1, C1))"
   ]
  },
  {
   "cell_type": "code",
   "execution_count": null,
   "metadata": {},
   "outputs": [],
   "source": [
    "def is_intersecting(p1, q1, p2, q2):\n",
    "    \n",
    "    get_orientation(p1, q1, p2)"
   ]
  }
 ],
 "metadata": {
  "kernelspec": {
   "display_name": "Python 3",
   "language": "python",
   "name": "python3"
  },
  "language_info": {
   "codemirror_mode": {
    "name": "ipython",
    "version": 3
   },
   "file_extension": ".py",
   "mimetype": "text/x-python",
   "name": "python",
   "nbconvert_exporter": "python",
   "pygments_lexer": "ipython3",
   "version": "3.7.3"
  }
 },
 "nbformat": 4,
 "nbformat_minor": 1
}
